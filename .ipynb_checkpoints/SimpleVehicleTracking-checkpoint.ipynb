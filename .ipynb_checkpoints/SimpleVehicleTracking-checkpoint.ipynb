{
 "cells": [
  {
   "cell_type": "markdown",
   "id": "546635a9-fad1-433e-9beb-a5fc32093e7f",
   "metadata": {},
   "source": [
    "# Object Detection and Tracking"
   ]
  },
  {
   "cell_type": "code",
   "execution_count": 1,
   "id": "7e67b31d-776d-4c7c-a11a-7dd52b1a72a7",
   "metadata": {
    "tags": []
   },
   "outputs": [],
   "source": [
    "import cv2"
   ]
  },
  {
   "cell_type": "code",
   "execution_count": 2,
   "id": "b2257d52-bc1d-4f01-9d67-5f38f90d5947",
   "metadata": {
    "tags": []
   },
   "outputs": [],
   "source": [
    "from tracker import *"
   ]
  },
  {
   "cell_type": "code",
   "execution_count": 3,
   "id": "7a730fd8-3024-495d-8d05-ab13da366d03",
   "metadata": {
    "tags": []
   },
   "outputs": [],
   "source": [
    "tracker = EuclideanDistTracker()"
   ]
  },
  {
   "cell_type": "code",
   "execution_count": null,
   "id": "d1e59247-03e8-4a71-82af-d665f9c6ec52",
   "metadata": {
    "tags": []
   },
   "outputs": [],
   "source": [
    "cap = cv2.VideoCapture(\"highway - Trim.mp4\")\n",
    "\n",
    "object_detector = cv2.createBackgroundSubtractorMOG2(history = 100, varThreshold = 100)\n",
    "\n",
    "while True:\n",
    "    ret, frame = cap.read()\n",
    "    height, width, _ = frame.shape\n",
    "    \n",
    "    #Extracting a region of interest\n",
    "    roi = frame[340: 800,500:800] # focusing on 1 part of the video\n",
    "    \n",
    "    \n",
    "    mask = object_detector.apply(roi)\n",
    "    _, mask = cv2.threshold(mask, 254,255, cv2.THRESH_BINARY)\n",
    "    contours, _ = cv2.findContours(mask, cv2.RETR_TREE, cv2.CHAIN_APPROX_SIMPLE) #we use this method to find the boundaries of white object in this mask\n",
    "    detections = []\n",
    "    \n",
    "    for cnt in contours:\n",
    "        # Calculate area and remove small elememts\n",
    "        area = cv2.contourArea(cnt)\n",
    "        if area > 200:\n",
    "            #cv2.drawContours(roi, [cnt], -1, (0,255,0), 2)\n",
    "            x,y,w,h = cv2.boundingRect(cnt)\n",
    "            detections.append([x,y,w,h])\n",
    "            \n",
    "    #object Tracking\n",
    "    \n",
    "    boxes_ids = tracker.update(detections)\n",
    "    for box_id in boxes_ids:\n",
    "        x,y,w,h,id = box_id\n",
    "        cv2.putText(roi, str(id), (x,y-15), cv2.FONT_HERSHEY_COMPLEX,1,(255,0,0),2)\n",
    "        cv2.rectangle(roi, (x,y),(x+w,y+h), (0,255,0),3)\n",
    "        \n",
    "    cv2.imshow('mask', mask)\n",
    "    cv2.imshow('frame', frame)\n",
    "    cv2.imshow('roi', roi)\n",
    "    \n",
    "    if cv2.waitKey(30) == ord('q'):\n",
    "        break\n",
    "cap.release()\n",
    "cv2.destroyAllWindows()"
   ]
  }
 ],
 "metadata": {
  "kernelspec": {
   "display_name": "Python 3 (ipykernel)",
   "language": "python",
   "name": "python3"
  },
  "language_info": {
   "codemirror_mode": {
    "name": "ipython",
    "version": 3
   },
   "file_extension": ".py",
   "mimetype": "text/x-python",
   "name": "python",
   "nbconvert_exporter": "python",
   "pygments_lexer": "ipython3",
   "version": "3.9.18"
  }
 },
 "nbformat": 4,
 "nbformat_minor": 5
}
